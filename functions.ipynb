{
 "cells": [
  {
   "cell_type": "code",
   "execution_count": 3,
   "id": "2deb904e",
   "metadata": {},
   "outputs": [],
   "source": [
    "#Non Parameterized Function\n",
    "def greet(): #Function initialization\n",
    "    print(\"Hello, World!\")\n",
    "    print(\"Welcome to Python Programming!\")\n",
    "    print(\"Have a great day!\")"
   ]
  },
  {
   "cell_type": "code",
   "execution_count": 4,
   "id": "0a20c002",
   "metadata": {},
   "outputs": [
    {
     "name": "stdout",
     "output_type": "stream",
     "text": [
      "Hello, World!\n",
      "Welcome to Python Programming!\n",
      "Have a great day!\n"
     ]
    }
   ],
   "source": [
    "#function calling\n",
    "greet()"
   ]
  },
  {
   "cell_type": "code",
   "execution_count": 5,
   "id": "b2b92564",
   "metadata": {},
   "outputs": [
    {
     "name": "stdout",
     "output_type": "stream",
     "text": [
      "Hello, World!\n",
      "Welcome to Python Programming!\n",
      "Have a great day!\n"
     ]
    }
   ],
   "source": [
    "greet()"
   ]
  },
  {
   "cell_type": "code",
   "execution_count": null,
   "id": "ba5c4345",
   "metadata": {},
   "outputs": [],
   "source": [
    "#parameterized function\n",
    "def sum(a,b): #parameters\n",
    "    print(a+b)"
   ]
  },
  {
   "cell_type": "code",
   "execution_count": null,
   "id": "4da944a1",
   "metadata": {},
   "outputs": [
    {
     "name": "stdout",
     "output_type": "stream",
     "text": [
      "30\n"
     ]
    }
   ],
   "source": [
    "sum(10,20) #arguments"
   ]
  },
  {
   "cell_type": "code",
   "execution_count": 13,
   "id": "06d00f8c",
   "metadata": {},
   "outputs": [
    {
     "name": "stdout",
     "output_type": "stream",
     "text": [
      "15.0\n"
     ]
    }
   ],
   "source": [
    "#non-return function\n",
    "def avg(a,b):\n",
    "    print((a+b)/2)\n",
    "\n",
    "avg = avg(10,20)"
   ]
  },
  {
   "cell_type": "code",
   "execution_count": 14,
   "id": "d43c9e1f",
   "metadata": {},
   "outputs": [
    {
     "name": "stdout",
     "output_type": "stream",
     "text": [
      "None\n"
     ]
    }
   ],
   "source": [
    "print(avg)"
   ]
  },
  {
   "cell_type": "code",
   "execution_count": 15,
   "id": "89027e77",
   "metadata": {},
   "outputs": [],
   "source": [
    "def avg(a,b):\n",
    "    return (a+b)/2\n",
    "\n",
    "avg = avg(10,20)"
   ]
  },
  {
   "cell_type": "code",
   "execution_count": 16,
   "id": "3cfba30d",
   "metadata": {},
   "outputs": [
    {
     "name": "stdout",
     "output_type": "stream",
     "text": [
      "15.0\n"
     ]
    }
   ],
   "source": [
    "print(avg)"
   ]
  },
  {
   "cell_type": "code",
   "execution_count": 17,
   "id": "4667211a",
   "metadata": {},
   "outputs": [
    {
     "name": "stdout",
     "output_type": "stream",
     "text": [
      "I am from USA\n",
      "I am from Canada\n",
      "I am from Australia\n",
      "I am from India\n"
     ]
    }
   ],
   "source": [
    "def myCountry(country = \"India\"):\n",
    "    print(\"I am from \" + country)\n",
    "\n",
    "myCountry(\"USA\")\n",
    "myCountry(\"Canada\")\n",
    "myCountry(\"Australia\")\n",
    "myCountry()  # Default value will be used here"
   ]
  },
  {
   "cell_type": "code",
   "execution_count": 19,
   "id": "a893b731",
   "metadata": {},
   "outputs": [
    {
     "data": {
      "text/plain": [
       "25"
      ]
     },
     "execution_count": 19,
     "metadata": {},
     "output_type": "execute_result"
    }
   ],
   "source": [
    "def square(x):\n",
    "    return x**2\n",
    "square(5)"
   ]
  },
  {
   "cell_type": "code",
   "execution_count": null,
   "id": "9176a4be",
   "metadata": {},
   "outputs": [
    {
     "name": "stdout",
     "output_type": "stream",
     "text": [
      "25\n"
     ]
    }
   ],
   "source": [
    "#lambda function\n",
    "square = lambda x: x*x\n",
    "print(square(5))"
   ]
  },
  {
   "cell_type": "code",
   "execution_count": null,
   "id": "a2accb01",
   "metadata": {},
   "outputs": [
    {
     "name": "stdout",
     "output_type": "stream",
     "text": [
      "True\n"
     ]
    }
   ],
   "source": [
    "#prime number\n",
    "def is_prime(n):\n",
    "    if n<2:\n",
    "        return False\n",
    "    for i in range (2, n):\n",
    "        if n % i == 0:\n",
    "            return False\n",
    "    return True\n",
    "\n",
    "print(is_prime(11))"
   ]
  },
  {
   "cell_type": "code",
   "execution_count": 22,
   "id": "025c12aa",
   "metadata": {},
   "outputs": [
    {
     "name": "stdout",
     "output_type": "stream",
     "text": [
      "True\n"
     ]
    }
   ],
   "source": [
    "#prime numbe using lambda function\n",
    "is_prime = lambda n: n < 2 or all(n % i != 0 for i in range(2, n))\n",
    "print(is_prime(11))"
   ]
  },
  {
   "cell_type": "markdown",
   "id": "77b71c12",
   "metadata": {},
   "source": [
    "Built in funtions"
   ]
  },
  {
   "cell_type": "code",
   "execution_count": 2,
   "id": "4f84ffb6",
   "metadata": {},
   "outputs": [],
   "source": [
    "import math"
   ]
  },
  {
   "cell_type": "code",
   "execution_count": 8,
   "id": "78191297",
   "metadata": {},
   "outputs": [
    {
     "name": "stdout",
     "output_type": "stream",
     "text": [
      "4.0\n",
      "120\n",
      "3.141592653589793\n",
      "2.718281828459045\n",
      "3\n",
      "60\n"
     ]
    }
   ],
   "source": [
    "print(math.sqrt(16))\n",
    "print(math.factorial(5))\n",
    "print(math.pi)\n",
    "print(math.e)\n",
    "print(math.gcd(12, 15))  # Greatest Common Divisor\n",
    "print(math.lcm(12, 15))  # Least Common Multiple"
   ]
  },
  {
   "cell_type": "code",
   "execution_count": 10,
   "id": "ffb29cd0",
   "metadata": {},
   "outputs": [],
   "source": [
    "from random import random, randint, choice, shuffle"
   ]
  },
  {
   "cell_type": "code",
   "execution_count": 15,
   "id": "7c48986a",
   "metadata": {},
   "outputs": [
    {
     "name": "stdout",
     "output_type": "stream",
     "text": [
      "get a random number between 0 and 1: 0.3619325617078798\n",
      "get a random integer between 1 and 10: 2\n",
      "get a random choice from a list: 2\n",
      "shuffled names: ['Bob', 'Doe', 'Alice', 'John', 'Jane']\n"
     ]
    }
   ],
   "source": [
    "print('get a random number between 0 and 1:', random())\n",
    "print('get a random integer between 1 and 10:', randint(1, 10))\n",
    "print('get a random choice from a list:', choice([1, 2, 3, 4, 5]))\n",
    "names = ['John', 'Jane', 'Doe','Alice', 'Bob']\n",
    "shuffle(names)\n",
    "print('shuffled names:', names)"
   ]
  },
  {
   "cell_type": "code",
   "execution_count": 16,
   "id": "d87615d9",
   "metadata": {},
   "outputs": [],
   "source": [
    "from datetime import datetime as dt"
   ]
  },
  {
   "cell_type": "code",
   "execution_count": 17,
   "id": "26f74136",
   "metadata": {},
   "outputs": [
    {
     "name": "stdout",
     "output_type": "stream",
     "text": [
      "Current Date and Time: 2025-05-31 17:48:37.350956\n",
      "Current Date: 2025-05-31\n",
      "Current Time: 17:48:37.351966\n",
      "Current Year: 2025\n",
      "Current Month: 5\n",
      "Current Day: 31\n",
      "Current Hour: 17\n",
      "Current Minute: 48\n"
     ]
    }
   ],
   "source": [
    "print(\"Current Date and Time:\", dt.now())\n",
    "print(\"Current Date:\", dt.now().date())\n",
    "print(\"Current Time:\", dt.now().time())\n",
    "print(\"Current Year:\", dt.now().year)\n",
    "print(\"Current Month:\", dt.now().month)\n",
    "print(\"Current Day:\", dt.now().day)\n",
    "print(\"Current Hour:\", dt.now().hour)\n",
    "print(\"Current Minute:\", dt.now().minute)"
   ]
  },
  {
   "cell_type": "code",
   "execution_count": 18,
   "id": "e33a6708",
   "metadata": {},
   "outputs": [
    {
     "name": "stdout",
     "output_type": "stream",
     "text": [
      "Formatted Date: 31/05/2025\n"
     ]
    }
   ],
   "source": [
    "date = dt.strftime(dt.now(), '%d/%m/%Y')\n",
    "print(\"Formatted Date:\", date)"
   ]
  },
  {
   "cell_type": "code",
   "execution_count": 19,
   "id": "83067df4",
   "metadata": {},
   "outputs": [
    {
     "name": "stdout",
     "output_type": "stream",
     "text": [
      "Formatted Time: 17:54:20\n"
     ]
    }
   ],
   "source": [
    "time = dt.strftime(dt.now(), '%H:%M:%S')\n",
    "print(\"Formatted Time:\", time)"
   ]
  },
  {
   "cell_type": "code",
   "execution_count": 20,
   "id": "e13d52f0",
   "metadata": {},
   "outputs": [],
   "source": [
    "import os"
   ]
  },
  {
   "cell_type": "code",
   "execution_count": 21,
   "id": "c4f808ff",
   "metadata": {},
   "outputs": [
    {
     "name": "stdout",
     "output_type": "stream",
     "text": [
      "Current Working Directory: c:\\Users\\LENOVO\\Documents\\2025-PY-5-TTS\n"
     ]
    }
   ],
   "source": [
    "print('Current Working Directory:', os.getcwd())"
   ]
  },
  {
   "cell_type": "code",
   "execution_count": 22,
   "id": "df88816a",
   "metadata": {},
   "outputs": [
    {
     "name": "stdout",
     "output_type": "stream",
     "text": [
      "Files in Current Directory: ['.git', 'base.py', 'conditions.ipynb', 'Data Structures', 'datatypes.ipynb', 'functions.ipynb', 'loops.ipynb', 'operators.ipynb', 'variables.ipynb']\n",
      "9 files found\n"
     ]
    }
   ],
   "source": [
    "files = os.listdir()\n",
    "print('Files in Current Directory:', files)\n",
    "print(len(files), 'files found')"
   ]
  },
  {
   "cell_type": "code",
   "execution_count": 23,
   "id": "d181cf8d",
   "metadata": {},
   "outputs": [
    {
     "name": "stdout",
     "output_type": "stream",
     "text": [
      "Files in Downloads Directory: ['1000_F_589454494_FlkWD51Bj3A9Yg67DhzIN1f2GRi1dWQs.jpg', '2025-05-17.rar', '3a62a15ba2527bcc292adfa7d5700937.gif', '6ctuwF.gif', 'AI-and-Human-1.png', 'ai-human-interactive-tech-interaction-robot-human-working-office-teamwork-business-partners-robot-man-handshake-vector-170009869.webp', 'AI-Power-Growth.jpg', 'Ai-sql', 'AI-vs-Human-Intelligence.jpg', 'AIWebScrapper', 'Alert-Generation-on-Detection-of-Suspicious-Activity-using-Transfer-Learning', 'All that parents need to know about Deep Internet_ why is it dangerous, signs that your child uses it, and how to prevent your teen from accessing the Dark Web_ - https___pumpic_com_security_teens-and-dark-web-fac.jpg', 'ALZHEIMER-S', 'Ankur shaswat.pdf', 'anti-fraud', 'anti-fraud-zipped.zip', 'antifraud', 'AntiFraud Centre Dataset.csv', 'archive (1).zip', 'archive (2).zip', 'archive (3).zip', 'archive (4).zip', 'archive.zip', 'artificial-intelligence-vs-human-vector-260nw-2285090819.webp', 'association_rules.csv', 'augmented_dataset_with_resize.zip', 'Auto SQL.pdf', 'autoflask', 'backgroun3.jpg', 'banner.pdf', 'BBD EXHIBITION PROJECT LIST (1).pdf', 'BBD EXHIBITION PROJECT LIST.docx', 'BBD EXHIBITION PROJECT LIST.pdf', 'BCADS Calender 2024-25.pdf', 'BCADS Guidelines 2024-25.pdf', 'Beige and Brown Illustrated Book Stack Name Tag.png', 'best_model.zip', 'Black and Blue Modern Cybersecurity Presentation.pptx', 'Black and Gray Minimalist Quote Desktop Wallpaper.png', 'Black and Yellow Modern Cyber Security Presentation.pptx', 'Black Yellow and Orange Minimalist Mining Presentation.pptx', 'brain-tumor-classification-with-cnn.ipynb', 'Brain_tumor_detection', 'brJmHfAUVd3pC31Puy8s9_model.glb', 'BumpSafe-Vision', 'cctv-camera-website-template.zip', 'CCTV_4X8_BLUE.webp', 'ChatGPT Image Apr 17, 2025, 06_29_14 PM.png', 'ChatGPT Image Apr 25, 2025, 02_40_18 PM.png', 'ChatGPT Image Apr 25, 2025, 02_46_25 PM.png', 'ChatGPT Image May 6, 2025, 06_23_59 PM.png', 'cloned_voice.wav', 'combined_car_video.mp4', 'combined_person_video (1).mp4', 'combined_person_video.mp4', 'combined_potted plant_video.mp4', 'Cookie dataset(pivot charts).xlsx', 'Copy of Red and Yellow Illustration Badminton Tournament Poster (1).zip', 'Copy of Red and Yellow Illustration Badminton Tournament Poster.zip', 'correction fie.pdf', 'country_wise_latest.csv', 'Course content 2023 (1).png', 'Course content 2023 (1).pptx', 'COURSE FEES _ digipodium - Google Sheets (1).pdf', 'COURSE FEES _ digipodium - Google Sheets.pdf', 'course_content_old.png', 'course_content_old.pptx', 'COVER PAGE.docx', 'covid-19-project', 'creato-bootstrap-free-v1.zip', 'Credit-Risk-Analysis', 'csume_v3.zip', 'CursorUserSetup-x64-0.47.9.exe', 'CursorUserSetup-x64-0.48.9 (1).exe', 'CursorUserSetup-x64-0.48.9.exe', 'cyber fraud.pdf', 'Cyber Security Training Modules.pdf', 'CYBER SECURITY.png', 'cyber-security', \"Cybercrime has only become a bigger and bigger issue in the past few years, and it's not going away any time soon_ Take your security seriously!.jpg\", 'cybersecurity_intrusion_data (1).csv', 'cybersecurity_intrusion_data.csv', 'Dark Blue and Purple Futuristic Modern Cyber Security Presentation .pptx', 'Dataset.xlsx', 'Datesheet .pdf', 'DeepDetect', 'desktop.ini', 'dfds', 'Diabetic-Retinopathy-1024x774.jpg', 'digebiz-starter_Free26-08-2021_1046711667.zip', 'Docker Desktop Installer.exe', 'download.jpg', 'ECO-FRIENDLY-PRODUCT-MARKETPLACE', 'employee (1).pdf', 'employee (2).pdf', 'Employee-Performance-Tracker', 'employee.pdf', 'ev-clustering.ipynb', 'ev_charging_patterns.csv', 'ev_Clusters.csv', 'excel.png', 'fair_skin.jpg', 'FINAL PRESENTATION PPT.pptx', 'first page for synopsis.doc', 'flaskk', 'flask_mini_project_template_2024', 'flask_template (1).zip', 'flask_template.zip', 'Flutter Course Content.pptm', 'FYPT_2025_3.pdf', 'geek', 'geek.zip', 'Git-2.48.1-64-bit.exe', 'Groceries_dataset.csv', 'Groceries_dataset.csv.zip', 'hair-salon-html-template.zip', 'Harsh_Jaiswal_updated.pdf', 'he.mp3', 'hero-bg.jpeg', 'How to Engineer a PROMPT_.pptx', 'html-contrastai-full.zip', 'html-cooperative-full (1).zip', 'html-cooperative-full.zip', 'html-fauna-full.zip', 'html5up-directive.zip', 'html5up-massively.zip', 'html5up-zerofour.zip', 'IBM Cloud Essentials V3 LinkedIn Certified Marketing Solution Google Ads Search Certified Google Analytics Academy.png', 'image-asset-2.html', 'image-asset.html', 'IMG_20230508_112115205.jpg', 'IMG_20230508_113046542.jpg', 'index (1).html', 'index (2).html', 'index.html', 'index.html.url', 'IoT_Projects (1).pdf', 'istockphoto-147650613-612x612.jpg', 'jadoo.zip', 'jan.csv', 'Jibanyan The Yokai by nessasan.jpg', 'jobex', 'jobs.csv', 'kisaan.csv', 'kissan ppt.pptx', 'large-thumbnail20250305-3107069-ziuwez.mp4', 'Level_0_DFD.png', 'Linkedin-analysis-project', 'linkedin-company-information.csv', 'LOCOTO', 'locoto.pdf', 'logo.jpg', 'Machine Learning lecture 2 (1).pptx', 'Machine Learning lecture 2 (2).pptx', 'Machine-Learning-A-Z-Codes-Datasets.zip', 'makeup.pdf', 'MARINE-SHIP-PERFORMANCE', 'marks.pdf', 'master error.pdf', 'Master-Error', 'MCA_NEW_IVth Semester Assignment.pdf', 'MCSP 232 - Project Guidelines - MCA_NEW (1).pdf', 'mern content 2.png', 'mern content 2.pptx', 'Miniconda3-latest-Windows-x86_64 (1).exe', 'Miniconda3-latest-Windows-x86_64 (2).exe', 'Miniconda3-latest-Windows-x86_64 (3).exe', 'Miniconda3-latest-Windows-x86_64.exe', 'mining.ipynb', 'mktng205-robot-AI-designer-confused-breaking-down-negative.png', 'model', 'my Syn.pdf', 'myproforma.pdf', 'Netflix-Movies-Sample-Data.xlsx', 'Neurons and Neural Networks.pptx', 'Notification-Extension-of-date-for-submission-of-Assignment-project-etc-June-2025-TEE.pdf', 'object finder uploading function.docx', 'original-2984c63d2652100e1ee22bbe3cd88c1f.webp', 'original-39dbb485d936e9ebe290fbe636c429e5-removebg-preview.png', 'original-4e9fc240e0a35e9d2ffba3775ad4b042.mp4', 'original-c387f60779e2f84df48f80a2245d0ca1.webp', 'original-ea38e7c4eb71b5c7e140411c2d7de1de.mp4', 'output.mp3', 'Pan-Card-Pentration-detection-system', 'PDA_Kashaf_Fatma_project_certificate_2025.pdf', 'PDS_Akshat_Jaiswal_project_certificate_2025.pdf', 'PDS_Amarnath_Pathak_project_certificate_2025.pdf', 'PDS_Deeksha_Dwivedi_project_certificate_2025.pdf', 'PDS_Riya_Singh_project_certificate_2025.pdf', 'PDS_Satyajeet_Das_project_certificate_2025.pdf', 'PDS_Tanisha_Singh_project_certificate_2025.pdf', 'pipeline.ipynb', 'play-tailwind-main', 'powering-electric-vehicles', 'pract', 'Profile_Asit_Pathak (1).pdf', 'proforma.docx', 'Project', 'Project Synopsis (2).pdf', 'Project synopsis 2.pdf', 'Project-for-User-Auth', 'Project-sample', 'project_proposal.pdf', 'Public Garden Automation.docx', 'python-3.9.1-amd64.exe', 'python-projct', 'PythonQuestions (1).ipynb', 'PythonQuestions.ipynb', 'Ragini_Yadav_project_certificate_2024 (1).pdf', 'real', 'Red and Yellow Illustration Badminton Tournament Poster (2).png', 'Reframe', 'reframing.pdf', 'report_2.pdf', 'report_3.pdf', 'Retinal-Blood-Vessel-Segmentation', 'Robotics Poster (1).png', 'Robotics Poster (2).png', 'Robotics Poster.png', 'ROBOTICS.mp4', 'Scrape Ease document.docx', 'scrape.pdf', 'scraped_data.csv', 'ScrapeEase', 'Screenshot (84).png', 'sem4 exam form.pdf', 'Sequence 01_1.webm', 'she.mp3', 'ship-clustering.ipynb', 'Ship_Performance_Dataset_with_Clusters.csv', 'ShiQL-Gen', 'Silifault', 'Smart_Irrigation_Styled_Features (1).pdf', 'Smart_Irrigation_Styled_Features.pdf', 'Social-media', 'software_installer (1).zip', 'software_installer (2).zip', 'software_installer.zip', 'solid.zip', 'spam (1).csv', 'speed bumps (1).zip', 'Starting Date.png', 'stock-prediction_lstm', 'streamlit_object_detection_webapp', 'Supermarket-Sales-Sample-Data.xlsx', 'Suspicious-Activity-Detection-Intelligence', 'synopsis.pdf', 'synopsis_edited doc.docx', 'synopsis_LOCOTO_python[1].docx', 'synopsis_sample_python[1][1].pdf', 'tasmiya-landing.html', 'Technical Projects.xlsx', 'templatemo_565_onix_digital.zip', 'templatemo_569_edu_meeting.zip', 'templatemo_570_chain_app_dev.zip', 'templatemo_582_tale_seo_agency.zip', 'This is to inform that.png', 'Titanic Dataset.xlsx', 'Top Books About Cybersecurity.jpg', 'Top-25-Most-Beautiful-Daisy-Flowers.jpg', 'tumour data', 'tumour data.zip', 'uifresh-contact-form-example-01-7gh4f3.zip', 'Unconfirmed 158286.crdownload', 'Untitled design.zip', 'VoiceClone', 'vosk-model-small-en-us-0.15.zip', 'wafer model', 'waferimages.rar', 'Web Mining using dputils.pptx', 'WhatsApp Image 2025-03-25 at 09.10.03.jpeg', 'WhatsApp Image 2025-04-08 at 14.38.06.jpeg', 'WhatsApp Image 2025-04-09 at 16.27.16.jpeg', 'WhatsApp Image 2025-04-25 at 14.53.26.jpeg', 'WhatsApp Image 2025-04-25 at 14.53.27.jpeg', 'WhatsApp Image 2025-04-27 at 23.48.44.jpeg', 'WhatsApp Image 2025-05-05 at 23.07.56.jpeg', 'WhatsApp Image 2025-05-14 at 10.15.15.jpeg', 'WhatsApp Image 2025-05-15 at 10.52.27.jpeg', 'WhatsApp Image 2025-05-15 at 12.41.12.jpeg', 'WhatsApp Image 2025-05-15 at 12.50.04.jpeg', 'WhatsApp Image 2025-05-29 at 14.07.13.jpeg', 'WhatsApp Image 2025-05-29 at 14.07.14 (1).jpeg', 'WhatsApp Image 2025-05-29 at 14.07.14.jpeg', 'WhatsApp Image 2025-05-29 at 14.07.15 (1).jpeg', 'WhatsApp Image 2025-05-29 at 14.07.15.jpeg', 'WhatsApp Image 2025-05-29 at 14.58.31.jpeg', 'WhatsApp Video 2025-04-04 at 13.20.10.mp4', 'WhatsApp Video 2025-04-08 at 14.39.08.mp4', 'WhatsApp Video 2025-04-13 at 14.14.33.mp4', 'WhatsApp Video 2025-05-21 at 12.02.29.mp4', 'White Minimalist Values and Goals A3 Poster.png', 'White Minimalist Values and Goals A3 Poster.zip', 'WindsurfUserSetup-x64-1.7.3.exe', 'X OBJECT FINDER.docx', 'X-Object-Finder', '~$Excel Interactive Dashboard.xlsx', '~$Free PowerPoint Presentation Prezfull 4 ANIMATED.pptx', '~$X2 Hoarding (step up cafe).ai', \"🕵️Zero-day exploits_ the hackers' ace up their sleeve_.jpg\", '🤖AI Powered Learning (1).pdf', '🤖AI Powered Learning (2).pdf', '🤖AI Powered Learning.pdf']\n",
      "303 files found in Downloads Directory\n"
     ]
    }
   ],
   "source": [
    "files = os.listdir(r\"C:\\Users\\LENOVO\\Downloads\")\n",
    "print('Files in Downloads Directory:', files)\n",
    "print(len(files), 'files found in Downloads Directory')"
   ]
  },
  {
   "cell_type": "code",
   "execution_count": 27,
   "id": "d38c8e98",
   "metadata": {},
   "outputs": [
    {
     "data": {
      "text/plain": [
       "<generator object walk at 0x000002434ECCE880>"
      ]
     },
     "execution_count": 27,
     "metadata": {},
     "output_type": "execute_result"
    }
   ],
   "source": [
    "os.walk(os.getcwd())"
   ]
  },
  {
   "cell_type": "code",
   "execution_count": 28,
   "id": "31a34f38",
   "metadata": {},
   "outputs": [
    {
     "name": "stdout",
     "output_type": "stream",
     "text": [
      "Root Directory: c:\\Users\\LENOVO\\Documents\\2025-PY-5-TTS\n",
      "Subdirectories: ['.git', 'Data Structures']\n",
      "Files: ['base.py', 'conditions.ipynb', 'datatypes.ipynb', 'functions.ipynb', 'loops.ipynb', 'operators.ipynb', 'variables.ipynb']\n",
      "Root Directory: c:\\Users\\LENOVO\\Documents\\2025-PY-5-TTS\\.git\n",
      "Subdirectories: ['hooks', 'info', 'logs', 'objects', 'refs']\n",
      "Files: ['COMMIT_EDITMSG', 'config', 'description', 'FETCH_HEAD', 'HEAD', 'index']\n",
      "Root Directory: c:\\Users\\LENOVO\\Documents\\2025-PY-5-TTS\\.git\\hooks\n",
      "Subdirectories: []\n",
      "Files: ['applypatch-msg.sample', 'commit-msg.sample', 'fsmonitor-watchman.sample', 'post-update.sample', 'pre-applypatch.sample', 'pre-commit.sample', 'pre-merge-commit.sample', 'pre-push.sample', 'pre-rebase.sample', 'pre-receive.sample', 'prepare-commit-msg.sample', 'push-to-checkout.sample', 'sendemail-validate.sample', 'update.sample']\n",
      "Root Directory: c:\\Users\\LENOVO\\Documents\\2025-PY-5-TTS\\.git\\info\n",
      "Subdirectories: []\n",
      "Files: ['exclude']\n",
      "Root Directory: c:\\Users\\LENOVO\\Documents\\2025-PY-5-TTS\\.git\\logs\n",
      "Subdirectories: ['refs']\n",
      "Files: ['HEAD']\n",
      "Root Directory: c:\\Users\\LENOVO\\Documents\\2025-PY-5-TTS\\.git\\logs\\refs\n",
      "Subdirectories: ['heads', 'remotes']\n",
      "Files: []\n",
      "Root Directory: c:\\Users\\LENOVO\\Documents\\2025-PY-5-TTS\\.git\\logs\\refs\\heads\n",
      "Subdirectories: []\n",
      "Files: ['main']\n",
      "Root Directory: c:\\Users\\LENOVO\\Documents\\2025-PY-5-TTS\\.git\\logs\\refs\\remotes\n",
      "Subdirectories: ['origin']\n",
      "Files: []\n",
      "Root Directory: c:\\Users\\LENOVO\\Documents\\2025-PY-5-TTS\\.git\\logs\\refs\\remotes\\origin\n",
      "Subdirectories: []\n",
      "Files: ['HEAD', 'main']\n",
      "Root Directory: c:\\Users\\LENOVO\\Documents\\2025-PY-5-TTS\\.git\\objects\n",
      "Subdirectories: ['01', '12', '8e', 'c2', 'info', 'pack']\n",
      "Files: []\n",
      "Root Directory: c:\\Users\\LENOVO\\Documents\\2025-PY-5-TTS\\.git\\objects\\01\n",
      "Subdirectories: []\n",
      "Files: ['2f58271eb1a3c42616596fc16ce96bd23b8c9d']\n",
      "Root Directory: c:\\Users\\LENOVO\\Documents\\2025-PY-5-TTS\\.git\\objects\\12\n",
      "Subdirectories: []\n",
      "Files: ['6886ab3ce12e64231475066d9f0a682359b5e7']\n",
      "Root Directory: c:\\Users\\LENOVO\\Documents\\2025-PY-5-TTS\\.git\\objects\\8e\n",
      "Subdirectories: []\n",
      "Files: ['235769c023ae8b5dad489734aa4ac26ad526de']\n",
      "Root Directory: c:\\Users\\LENOVO\\Documents\\2025-PY-5-TTS\\.git\\objects\\c2\n",
      "Subdirectories: []\n",
      "Files: ['556ee0a1495ad5742b0a7c6ef4624072444a05']\n",
      "Root Directory: c:\\Users\\LENOVO\\Documents\\2025-PY-5-TTS\\.git\\objects\\info\n",
      "Subdirectories: []\n",
      "Files: []\n",
      "Root Directory: c:\\Users\\LENOVO\\Documents\\2025-PY-5-TTS\\.git\\objects\\pack\n",
      "Subdirectories: []\n",
      "Files: []\n",
      "Root Directory: c:\\Users\\LENOVO\\Documents\\2025-PY-5-TTS\\.git\\refs\n",
      "Subdirectories: ['heads', 'remotes', 'tags']\n",
      "Files: []\n",
      "Root Directory: c:\\Users\\LENOVO\\Documents\\2025-PY-5-TTS\\.git\\refs\\heads\n",
      "Subdirectories: []\n",
      "Files: ['main']\n",
      "Root Directory: c:\\Users\\LENOVO\\Documents\\2025-PY-5-TTS\\.git\\refs\\remotes\n",
      "Subdirectories: ['origin']\n",
      "Files: []\n",
      "Root Directory: c:\\Users\\LENOVO\\Documents\\2025-PY-5-TTS\\.git\\refs\\remotes\\origin\n",
      "Subdirectories: []\n",
      "Files: ['HEAD', 'main']\n",
      "Root Directory: c:\\Users\\LENOVO\\Documents\\2025-PY-5-TTS\\.git\\refs\\tags\n",
      "Subdirectories: []\n",
      "Files: []\n",
      "Root Directory: c:\\Users\\LENOVO\\Documents\\2025-PY-5-TTS\\Data Structures\n",
      "Subdirectories: []\n",
      "Files: ['disctionary.ipynb', 'List.ipynb', 'strings.ipynb']\n"
     ]
    }
   ],
   "source": [
    "for root, dirs, files in os.walk(os.getcwd()):\n",
    "    print(\"Root Directory:\", root)\n",
    "    print(\"Subdirectories:\", dirs)\n",
    "    print(\"Files:\", files)"
   ]
  },
  {
   "cell_type": "code",
   "execution_count": 30,
   "id": "b888fc1e",
   "metadata": {},
   "outputs": [
    {
     "name": "stdout",
     "output_type": "stream",
     "text": [
      "File does not exist: C:\\Users\\LENOVO\\Documents\\2024-Sep-PYDSDA-11-MTW\n"
     ]
    }
   ],
   "source": [
    "#file exist or not\n",
    "file = r\"C:\\Users\\LENOVO\\Documents\\2024-Sep-PYDSDA-11-MTW\"\n",
    "if os.path.exists(file):\n",
    "    print(\"File exists:\", file)\n",
    "else:\n",
    "    print(\"File does not exist:\", file)"
   ]
  },
  {
   "cell_type": "code",
   "execution_count": null,
   "id": "c93441d9",
   "metadata": {},
   "outputs": [],
   "source": []
  }
 ],
 "metadata": {
  "kernelspec": {
   "display_name": "base",
   "language": "python",
   "name": "python3"
  },
  "language_info": {
   "codemirror_mode": {
    "name": "ipython",
    "version": 3
   },
   "file_extension": ".py",
   "mimetype": "text/x-python",
   "name": "python",
   "nbconvert_exporter": "python",
   "pygments_lexer": "ipython3",
   "version": "3.12.9"
  }
 },
 "nbformat": 4,
 "nbformat_minor": 5
}
