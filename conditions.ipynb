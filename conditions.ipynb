{
 "cells": [
  {
   "cell_type": "code",
   "execution_count": 1,
   "id": "1c33e2c4",
   "metadata": {},
   "outputs": [
    {
     "name": "stdout",
     "output_type": "stream",
     "text": [
      "A\n",
      "B\n"
     ]
    }
   ],
   "source": [
    "marks = 85\n",
    "if marks >= 90:\n",
    "    print(\"A+\")\n",
    "if marks >=80:\n",
    "    print(\"A\")\n",
    "if marks >= 60:\n",
    "    print(\"B\")\n",
    "if marks <60:\n",
    "    print(\"Fail\")"
   ]
  },
  {
   "cell_type": "code",
   "execution_count": 3,
   "id": "389b3809",
   "metadata": {},
   "outputs": [
    {
     "name": "stdout",
     "output_type": "stream",
     "text": [
      "A\n"
     ]
    }
   ],
   "source": [
    "marks = 85\n",
    "if marks >= 90:\n",
    "    print(\"A+\")\n",
    "elif marks >=80:\n",
    "    print(\"A\")\n",
    "elif marks >= 60:\n",
    "    print(\"B\")\n",
    "elif marks <60:\n",
    "    print(\"Fail\")\n",
    "else:\n",
    "    print(\"Invalid Marks\")"
   ]
  },
  {
   "cell_type": "code",
   "execution_count": 4,
   "id": "16b67057",
   "metadata": {},
   "outputs": [
    {
     "name": "stdout",
     "output_type": "stream",
     "text": [
      "Eligible to vote\n"
     ]
    }
   ],
   "source": [
    "age = 23\n",
    "if age >= 18:\n",
    "    print(\"Eligible to vote\")\n",
    "else:\n",
    "    print(\"Not eligible to vote\")"
   ]
  },
  {
   "cell_type": "markdown",
   "id": "9e5fe459",
   "metadata": {},
   "source": [
    "- check whether a number is positive or not\n",
    "- check whether a number is even or odd\n",
    "- check whether two line segements are equal or not\n",
    "- check whether a character entered by user is a vowel or not\n",
    "- calculate an area of circle\n",
    "- check whether a triangle is an equilateral or isosceles triangle\n",
    "- calculate the gross salary of an employee where the basic salary is \n",
    "50,000 , HRA is 5% of bs and TDA is 10% of bs"
   ]
  },
  {
   "cell_type": "code",
   "execution_count": 2,
   "id": "8d86cd43",
   "metadata": {},
   "outputs": [
    {
     "name": "stdout",
     "output_type": "stream",
     "text": [
      "Gross Salary:  57500.0\n"
     ]
    }
   ],
   "source": [
    "bs = 50000\n",
    "hra = 5/100*bs\n",
    "da = 10/100*bs\n",
    "gs = bs + hra + da\n",
    "print(\"Gross Salary: \", gs)"
   ]
  },
  {
   "cell_type": "code",
   "execution_count": 3,
   "id": "4130f98c",
   "metadata": {},
   "outputs": [
    {
     "name": "stdout",
     "output_type": "stream",
     "text": [
      "Registration successful\n"
     ]
    }
   ],
   "source": [
    "username = input(\"Enter username: \")\n",
    "email = input(\"Enter email: \")\n",
    "password = input(\"Enter password: \")\n",
    "cpassword = input(\"Enter confirm password: \")\n",
    "if len(username)>=5 and len(username)<=15:\n",
    "    if len(email)>=10 and '@' in email:\n",
    "        if len(password)>=8 and password != username:\n",
    "            if password == cpassword:\n",
    "                print(\"Registration successful\")\n",
    "            else:\n",
    "                print(\"Password and confirm password do not match\")\n",
    "        else:\n",
    "            print(\"Invalid password\")\n",
    "    else:\n",
    "        print(\"Invalid email\")\n",
    "else:\n",
    "    print(\"Invalid username\") "
   ]
  },
  {
   "cell_type": "code",
   "execution_count": 8,
   "id": "6aa58348",
   "metadata": {},
   "outputs": [
    {
     "name": "stdout",
     "output_type": "stream",
     "text": [
      "6\n"
     ]
    }
   ],
   "source": [
    "a = input(\"Enter first number: \")\n",
    "print(a)"
   ]
  },
  {
   "cell_type": "code",
   "execution_count": null,
   "id": "ae9b2179",
   "metadata": {},
   "outputs": [],
   "source": []
  }
 ],
 "metadata": {
  "kernelspec": {
   "display_name": "base",
   "language": "python",
   "name": "python3"
  },
  "language_info": {
   "codemirror_mode": {
    "name": "ipython",
    "version": 3
   },
   "file_extension": ".py",
   "mimetype": "text/x-python",
   "name": "python",
   "nbconvert_exporter": "python",
   "pygments_lexer": "ipython3",
   "version": "3.12.9"
  }
 },
 "nbformat": 4,
 "nbformat_minor": 5
}
