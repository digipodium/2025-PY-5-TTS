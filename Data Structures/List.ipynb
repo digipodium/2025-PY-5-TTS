{
 "cells": [
  {
   "cell_type": "code",
   "execution_count": 2,
   "id": "c0266205",
   "metadata": {},
   "outputs": [
    {
     "name": "stdout",
     "output_type": "stream",
     "text": [
      "['google', 'drive', 'swiggy', 'zomato', 'uber', 'ola', 'whatsapp', 'snapchat', 'instagram']\n"
     ]
    }
   ],
   "source": [
    "apps = ['google','drive','swiggy','zomato','uber','ola','whatsapp','snapchat','instagram']\n",
    "print(apps)"
   ]
  },
  {
   "cell_type": "code",
   "execution_count": 3,
   "id": "f2f88d30",
   "metadata": {},
   "outputs": [
    {
     "name": "stdout",
     "output_type": "stream",
     "text": [
      "uber\n"
     ]
    }
   ],
   "source": [
    "print(apps[4])"
   ]
  },
  {
   "cell_type": "code",
   "execution_count": 4,
   "id": "5db9af53",
   "metadata": {},
   "outputs": [
    {
     "name": "stdout",
     "output_type": "stream",
     "text": [
      "zomato\n"
     ]
    }
   ],
   "source": [
    "print(apps[-6])"
   ]
  },
  {
   "cell_type": "code",
   "execution_count": 10,
   "id": "d504e8f3",
   "metadata": {},
   "outputs": [
    {
     "name": "stdout",
     "output_type": "stream",
     "text": [
      "['google', 'drive', 'swiggy', 'zomato', 'uber']\n",
      "['google', 'swiggy', 'uber', 'whatsapp']\n",
      "['zomato', 'uber', 'ola', 'whatsapp', 'snapchat', 'instagram']\n",
      "['google', 'drive', 'swiggy', 'zomato', 'uber', 'ola']\n",
      "['google', 'drive', 'swiggy', 'zomato', 'uber', 'ola', 'whatsapp', 'snapchat', 'instagram']\n",
      "['google', 'swiggy', 'uber', 'whatsapp', 'instagram']\n"
     ]
    }
   ],
   "source": [
    "print(apps[0:5])\n",
    "print(apps[0:8:2])\n",
    "print(apps[3:])\n",
    "print(apps[:6])\n",
    "print(apps[:])\n",
    "print(apps[::2])"
   ]
  },
  {
   "cell_type": "markdown",
   "id": "1989c805",
   "metadata": {},
   "source": [
    "List Methods\n",
    "- append() - to add an element at the end of the list\n",
    "- insert() - to add an element at any specific position\n",
    "- pop() - to remove an element using index position\n",
    "- remove() - to remove an element using the name of the element\n",
    "- copy() - to make a copy of the list\n",
    "- sort() - to arrange the items of the list in specific order\n",
    "- clear() - to delete all items of the list but not a list\n",
    "- extend() - to combine items of two list in one list"
   ]
  },
  {
   "cell_type": "code",
   "execution_count": 11,
   "id": "7f841752",
   "metadata": {},
   "outputs": [
    {
     "name": "stdout",
     "output_type": "stream",
     "text": [
      "['google', 'drive', 'swiggy', 'zomato', 'uber', 'ola', 'whatsapp', 'snapchat', 'instagram', 'facebook']\n"
     ]
    }
   ],
   "source": [
    "apps.append('facebook')\n",
    "print(apps)"
   ]
  },
  {
   "cell_type": "code",
   "execution_count": null,
   "id": "787a4375",
   "metadata": {},
   "outputs": [],
   "source": [
    "apps.insert(2,'twitter')\n"
   ]
  },
  {
   "cell_type": "code",
   "execution_count": 13,
   "id": "c548109b",
   "metadata": {},
   "outputs": [
    {
     "name": "stdout",
     "output_type": "stream",
     "text": [
      "['google', 'drive', 'twitter', 'swiggy', 'zomato', 'uber', 'ola', 'whatsapp', 'snapchat', 'instagram', 'facebook']\n"
     ]
    }
   ],
   "source": [
    "print(apps)"
   ]
  },
  {
   "cell_type": "code",
   "execution_count": 14,
   "id": "9c506f05",
   "metadata": {},
   "outputs": [
    {
     "name": "stdout",
     "output_type": "stream",
     "text": [
      "['google', 'drive', 'swiggy', 'zomato', 'uber', 'ola', 'whatsapp', 'snapchat', 'instagram', 'facebook']\n"
     ]
    }
   ],
   "source": [
    "apps.pop(2)\n",
    "print(apps)"
   ]
  },
  {
   "cell_type": "code",
   "execution_count": 15,
   "id": "880d051f",
   "metadata": {},
   "outputs": [
    {
     "name": "stdout",
     "output_type": "stream",
     "text": [
      "['google', 'drive', 'swiggy', 'zomato', 'ola', 'whatsapp', 'snapchat', 'instagram', 'facebook']\n"
     ]
    }
   ],
   "source": [
    "apps.remove('uber')\n",
    "print(apps)"
   ]
  },
  {
   "cell_type": "code",
   "execution_count": 16,
   "id": "eba07e9f",
   "metadata": {},
   "outputs": [
    {
     "name": "stdout",
     "output_type": "stream",
     "text": [
      "['google', 'drive', 'swiggy', 'zomato', 'ola', 'whatsapp', 'snapchat', 'instagram', 'facebook']\n"
     ]
    }
   ],
   "source": [
    "copy = apps.copy()\n",
    "print(copy)"
   ]
  },
  {
   "cell_type": "code",
   "execution_count": 17,
   "id": "c115849e",
   "metadata": {},
   "outputs": [
    {
     "name": "stdout",
     "output_type": "stream",
     "text": [
      "[]\n"
     ]
    }
   ],
   "source": [
    "copy.clear()\n",
    "print(copy)"
   ]
  },
  {
   "cell_type": "code",
   "execution_count": 23,
   "id": "dd5338b7",
   "metadata": {},
   "outputs": [
    {
     "data": {
      "text/plain": [
       "['zomato',\n",
       " 'whatsapp',\n",
       " 'swiggy',\n",
       " 'snapchat',\n",
       " 'ola',\n",
       " 'instagram',\n",
       " 'google',\n",
       " 'facebook',\n",
       " 'drive']"
      ]
     },
     "execution_count": 23,
     "metadata": {},
     "output_type": "execute_result"
    }
   ],
   "source": [
    "sorted_apps = sorted(apps,reverse=True)\n",
    "sorted_apps"
   ]
  },
  {
   "cell_type": "code",
   "execution_count": 22,
   "id": "bbc525b4",
   "metadata": {},
   "outputs": [
    {
     "data": {
      "text/plain": [
       "['zomato',\n",
       " 'whatsapp',\n",
       " 'swiggy',\n",
       " 'snapchat',\n",
       " 'ola',\n",
       " 'instagram',\n",
       " 'google',\n",
       " 'facebook',\n",
       " 'drive']"
      ]
     },
     "execution_count": 22,
     "metadata": {},
     "output_type": "execute_result"
    }
   ],
   "source": [
    "apps.sort(reverse=True)\n",
    "apps"
   ]
  },
  {
   "cell_type": "code",
   "execution_count": 24,
   "id": "bfcbc5a0",
   "metadata": {},
   "outputs": [
    {
     "data": {
      "text/plain": [
       "['zomato',\n",
       " 'whatsapp',\n",
       " 'swiggy',\n",
       " 'snapchat',\n",
       " 'ola',\n",
       " 'instagram',\n",
       " 'google',\n",
       " 'facebook',\n",
       " 'drive']"
      ]
     },
     "execution_count": 24,
     "metadata": {},
     "output_type": "execute_result"
    }
   ],
   "source": [
    "apps"
   ]
  },
  {
   "cell_type": "code",
   "execution_count": 26,
   "id": "f83d1689",
   "metadata": {},
   "outputs": [
    {
     "name": "stdout",
     "output_type": "stream",
     "text": [
      "['zomato', 'whatsapp', 'swiggy', 'snapchat', 'ola', 'instagram', 'google', 'facebook', 'drive', 'tiktok', 'youtube']\n"
     ]
    }
   ],
   "source": [
    "apps.extend(['tiktok','youtube'])\n",
    "print(apps)"
   ]
  },
  {
   "cell_type": "code",
   "execution_count": 27,
   "id": "aace641f",
   "metadata": {},
   "outputs": [
    {
     "name": "stdout",
     "output_type": "stream",
     "text": [
      "['zomato', 'whatsapp', 'swiggy', 'snapchat', 'ola', 'instagram', 'google', 'facebook', 'drive', 'tiktok', 'youtube']\n"
     ]
    }
   ],
   "source": [
    "apps + ['tiktok','youtube']\n",
    "print(apps)"
   ]
  },
  {
   "cell_type": "code",
   "execution_count": 28,
   "id": "195193b5",
   "metadata": {},
   "outputs": [],
   "source": [
    "l = apps"
   ]
  },
  {
   "cell_type": "code",
   "execution_count": 29,
   "id": "d6f55fc2",
   "metadata": {},
   "outputs": [
    {
     "data": {
      "text/plain": [
       "['zomato',\n",
       " 'whatsapp',\n",
       " 'swiggy',\n",
       " 'snapchat',\n",
       " 'ola',\n",
       " 'instagram',\n",
       " 'google',\n",
       " 'facebook',\n",
       " 'drive',\n",
       " 'tiktok',\n",
       " 'youtube']"
      ]
     },
     "execution_count": 29,
     "metadata": {},
     "output_type": "execute_result"
    }
   ],
   "source": [
    "l"
   ]
  },
  {
   "cell_type": "code",
   "execution_count": null,
   "id": "09cc7f25",
   "metadata": {},
   "outputs": [],
   "source": []
  }
 ],
 "metadata": {
  "kernelspec": {
   "display_name": "base",
   "language": "python",
   "name": "python3"
  },
  "language_info": {
   "codemirror_mode": {
    "name": "ipython",
    "version": 3
   },
   "file_extension": ".py",
   "mimetype": "text/x-python",
   "name": "python",
   "nbconvert_exporter": "python",
   "pygments_lexer": "ipython3",
   "version": "3.12.9"
  }
 },
 "nbformat": 4,
 "nbformat_minor": 5
}
