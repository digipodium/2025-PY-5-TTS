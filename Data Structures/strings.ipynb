{
 "cells": [
  {
   "cell_type": "code",
   "execution_count": 1,
   "id": "bd064e07",
   "metadata": {},
   "outputs": [
    {
     "name": "stdout",
     "output_type": "stream",
     "text": [
      "harsh raj Jaiswal\n",
      "harsh raj Jaiswal\n",
      "harsh raj Jaiswal\n",
      "harsh raj Jaiswal\n",
      "harsh raj Jaiswal\n"
     ]
    }
   ],
   "source": [
    "for i in range(5):\n",
    "    print(\"harsh raj Jaiswal\")"
   ]
  },
  {
   "cell_type": "code",
   "execution_count": 2,
   "id": "31ed96a9",
   "metadata": {},
   "outputs": [
    {
     "name": "stdout",
     "output_type": "stream",
     "text": [
      "h\n",
      "a\n",
      "r\n",
      "s\n",
      "h\n",
      " \n",
      "r\n",
      "a\n",
      "j\n",
      " \n",
      "J\n",
      "a\n",
      "i\n",
      "s\n",
      "w\n",
      "a\n",
      "l\n"
     ]
    }
   ],
   "source": [
    "name = \"harsh raj Jaiswal\"\n",
    "for i in name:\n",
    "    print(i)"
   ]
  },
  {
   "cell_type": "code",
   "execution_count": 5,
   "id": "0f651254",
   "metadata": {},
   "outputs": [
    {
     "name": "stdout",
     "output_type": "stream",
     "text": [
      "h🐍a🐍r🐍s🐍h🐍 🐍r🐍a🐍j🐍 🐍J🐍a🐍i🐍s🐍w🐍a🐍l🐍"
     ]
    }
   ],
   "source": [
    "name = \"harsh raj Jaiswal\"\n",
    "for i in name:\n",
    "    print(i, end=\"🐍\")  # This will print the name without new lines"
   ]
  },
  {
   "cell_type": "code",
   "execution_count": 7,
   "id": "83b99768",
   "metadata": {},
   "outputs": [
    {
     "data": {
      "text/plain": [
       "('a', 'l')"
      ]
     },
     "execution_count": 7,
     "metadata": {},
     "output_type": "execute_result"
    }
   ],
   "source": [
    "name[1], name[-1]"
   ]
  },
  {
   "cell_type": "code",
   "execution_count": 8,
   "id": "6ca5a70d",
   "metadata": {},
   "outputs": [
    {
     "data": {
      "text/plain": [
       "'harsh'"
      ]
     },
     "execution_count": 8,
     "metadata": {},
     "output_type": "execute_result"
    }
   ],
   "source": [
    "name[0:5]  # This will print the first 5 characters of the name"
   ]
  },
  {
   "cell_type": "code",
   "execution_count": 11,
   "id": "eacee587",
   "metadata": {},
   "outputs": [
    {
     "data": {
      "text/plain": [
       "('harsh', 'rjJiwl')"
      ]
     },
     "execution_count": 11,
     "metadata": {},
     "output_type": "execute_result"
    }
   ],
   "source": [
    "name[:5],name[6::2]"
   ]
  },
  {
   "cell_type": "code",
   "execution_count": 12,
   "id": "6b70919f",
   "metadata": {},
   "outputs": [
    {
     "data": {
      "text/plain": [
       "'lawsiaJ jar hsrah'"
      ]
     },
     "execution_count": 12,
     "metadata": {},
     "output_type": "execute_result"
    }
   ],
   "source": [
    "name[::-1]"
   ]
  },
  {
   "cell_type": "code",
   "execution_count": 13,
   "id": "b9c96c8f",
   "metadata": {},
   "outputs": [
    {
     "data": {
      "text/plain": [
       "'aJ jar hsra'"
      ]
     },
     "execution_count": 13,
     "metadata": {},
     "output_type": "execute_result"
    }
   ],
   "source": [
    "name[-6:0:-1]"
   ]
  },
  {
   "cell_type": "code",
   "execution_count": null,
   "id": "c93dcd9d",
   "metadata": {},
   "outputs": [],
   "source": []
  }
 ],
 "metadata": {
  "kernelspec": {
   "display_name": "base",
   "language": "python",
   "name": "python3"
  },
  "language_info": {
   "codemirror_mode": {
    "name": "ipython",
    "version": 3
   },
   "file_extension": ".py",
   "mimetype": "text/x-python",
   "name": "python",
   "nbconvert_exporter": "python",
   "pygments_lexer": "ipython3",
   "version": "3.12.9"
  }
 },
 "nbformat": 4,
 "nbformat_minor": 5
}
