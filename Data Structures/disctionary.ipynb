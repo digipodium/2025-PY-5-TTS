{
 "cells": [
  {
   "cell_type": "markdown",
   "id": "49f75b36",
   "metadata": {},
   "source": [
    "- how to declare it\n",
    "- how to access key and value pairs\n",
    "- how to use loops in dictionary\n",
    "- indexing in dictionary"
   ]
  },
  {
   "cell_type": "code",
   "execution_count": 4,
   "id": "938f1f84",
   "metadata": {},
   "outputs": [
    {
     "name": "stdout",
     "output_type": "stream",
     "text": [
      "{'name': 'John', 'age': 20, 'class': 12, 'gender': 'm'}\n"
     ]
    }
   ],
   "source": [
    "student = {\n",
    "    \"name\" : \"John\",\n",
    "    \"age\" : 20,\n",
    "    \"class\" : 12,\n",
    "    \"gender\" : input(\"Enter your gender:\")\n",
    "}\n",
    "print(student)"
   ]
  },
  {
   "cell_type": "code",
   "execution_count": 2,
   "id": "5f5cdef6",
   "metadata": {},
   "outputs": [
    {
     "name": "stdout",
     "output_type": "stream",
     "text": [
      "{'lucknow': [25, 30, 35], 'delhi': [28, 32, 30], 'mumbai': [30, 31, 29]}\n"
     ]
    }
   ],
   "source": [
    "temp = {\n",
    "    'lucknow' : [25,30,35],\n",
    "    'delhi' : [28,32,30],\n",
    "    'mumbai' : [30,31,29],\n",
    "}\n",
    "print(temp)"
   ]
  },
  {
   "cell_type": "code",
   "execution_count": 3,
   "id": "16b751b2",
   "metadata": {},
   "outputs": [
    {
     "name": "stdout",
     "output_type": "stream",
     "text": [
      "{'name': 'Alice', 'age': 25, 'city': 'New York', 'gender': 'male'}\n"
     ]
    }
   ],
   "source": [
    "info = dict(name= \"Alice\", age = 25, city = \"New York\", gender='male')\n",
    "print(info)"
   ]
  },
  {
   "cell_type": "code",
   "execution_count": 5,
   "id": "472d50c5",
   "metadata": {},
   "outputs": [
    {
     "name": "stdout",
     "output_type": "stream",
     "text": [
      "Alice\n"
     ]
    }
   ],
   "source": [
    "#1st method to acces the value of a key\n",
    "print(info['name'])"
   ]
  },
  {
   "cell_type": "code",
   "execution_count": 6,
   "id": "19a0ebc3",
   "metadata": {},
   "outputs": [
    {
     "name": "stdout",
     "output_type": "stream",
     "text": [
      "25\n"
     ]
    }
   ],
   "source": [
    "#2nd method to access the value of a key\n",
    "print(info.get('age'))"
   ]
  },
  {
   "cell_type": "code",
   "execution_count": 7,
   "id": "fce3a81b",
   "metadata": {},
   "outputs": [],
   "source": [
    "#to add a new pair to the dictionary\n",
    "info['country'] = 'USA'"
   ]
  },
  {
   "cell_type": "code",
   "execution_count": 8,
   "id": "1e058819",
   "metadata": {},
   "outputs": [
    {
     "name": "stdout",
     "output_type": "stream",
     "text": [
      "{'name': 'Alice', 'age': 25, 'city': 'New York', 'gender': 'male', 'country': 'USA'}\n"
     ]
    }
   ],
   "source": [
    "print(info)"
   ]
  },
  {
   "cell_type": "code",
   "execution_count": 11,
   "id": "d45243ea",
   "metadata": {},
   "outputs": [
    {
     "name": "stdout",
     "output_type": "stream",
     "text": [
      "dict_keys(['name', 'age', 'city', 'gender', 'country'])\n",
      "dict_values(['Alice', 25, 'New York', 'male', 'USA'])\n",
      "dict_items([('name', 'Alice'), ('age', 25), ('city', 'New York'), ('gender', 'male'), ('country', 'USA')])\n"
     ]
    }
   ],
   "source": [
    "print(info.keys())\n",
    "print(info.values())\n",
    "print(info.items())"
   ]
  },
  {
   "cell_type": "code",
   "execution_count": 12,
   "id": "12acc27b",
   "metadata": {},
   "outputs": [
    {
     "name": "stdout",
     "output_type": "stream",
     "text": [
      "name\n",
      "age\n",
      "city\n",
      "gender\n",
      "country\n"
     ]
    }
   ],
   "source": [
    "for k in info:\n",
    "    print(k)"
   ]
  },
  {
   "cell_type": "code",
   "execution_count": 13,
   "id": "44818743",
   "metadata": {},
   "outputs": [
    {
     "name": "stdout",
     "output_type": "stream",
     "text": [
      "name : Alice\n",
      "age : 25\n",
      "city : New York\n",
      "gender : male\n",
      "country : USA\n"
     ]
    }
   ],
   "source": [
    "for k,v in info.items():\n",
    "    print(f\"{k} : {v}\")"
   ]
  },
  {
   "cell_type": "code",
   "execution_count": 14,
   "id": "08d964f9",
   "metadata": {},
   "outputs": [
    {
     "name": "stdout",
     "output_type": "stream",
     "text": [
      "{'emp001': {'name': 'Alice', 'age': 30, 'department': 'HR'}, 'emp002': {'name': 'Bob', 'age': 25, 'department': 'IT'}, 'emp003': {'name': 'Charlie', 'age': 28, 'department': 'Finance'}}\n"
     ]
    }
   ],
   "source": [
    "company = {\n",
    "    'emp001' : {\n",
    "        'name' : 'Alice',\n",
    "        'age' : 30,\n",
    "        'department' : 'HR'\n",
    "    },\n",
    "    'emp002' : {\n",
    "        'name' : 'Bob',\n",
    "        'age' : 25,\n",
    "        'department' : 'IT'\n",
    "    },\n",
    "    'emp003' : {\n",
    "        'name' : 'Charlie',\n",
    "        'age' : 28,\n",
    "        'department' : 'Finance'\n",
    "    }\n",
    "}\n",
    "print(company)"
   ]
  },
  {
   "cell_type": "code",
   "execution_count": 15,
   "id": "f747475b",
   "metadata": {},
   "outputs": [
    {
     "name": "stdout",
     "output_type": "stream",
     "text": [
      "{'emp001': {'age': 30, 'department': 'HR', 'name': 'Alice'},\n",
      " 'emp002': {'age': 25, 'department': 'IT', 'name': 'Bob'},\n",
      " 'emp003': {'age': 28, 'department': 'Finance', 'name': 'Charlie'}}\n"
     ]
    }
   ],
   "source": [
    "from pprint import pprint\n",
    "pprint(company)"
   ]
  },
  {
   "cell_type": "code",
   "execution_count": 16,
   "id": "fd69d414",
   "metadata": {},
   "outputs": [
    {
     "data": {
      "text/plain": [
       "30"
      ]
     },
     "execution_count": 16,
     "metadata": {},
     "output_type": "execute_result"
    }
   ],
   "source": [
    "company['emp001']['age'] "
   ]
  },
  {
   "cell_type": "code",
   "execution_count": 17,
   "id": "abef5162",
   "metadata": {},
   "outputs": [
    {
     "name": "stdout",
     "output_type": "stream",
     "text": [
      "{'emp001': {'name': 'Alice', 'age': 30, 'department': 'HR'}, 'emp002': {'name': 'Bob', 'age': 25, 'department': 'IT'}, 'emp003': {'name': 'Charlie', 'age': 28, 'department': 'Finance'}, 'emp004': {'name': 'David', 'age': 35, 'department': 'Marketing'}}\n"
     ]
    }
   ],
   "source": [
    "company['emp004'] = {\n",
    "    'name' : 'David',   \n",
    "    'age' : 35,\n",
    "    'department' : 'Marketing'\n",
    "}\n",
    "print(company)"
   ]
  },
  {
   "cell_type": "code",
   "execution_count": 19,
   "id": "40b029a7",
   "metadata": {},
   "outputs": [
    {
     "data": {
      "text/plain": [
       "35"
      ]
     },
     "execution_count": 19,
     "metadata": {},
     "output_type": "execute_result"
    }
   ],
   "source": [
    "company['emp004']['age']"
   ]
  },
  {
   "cell_type": "code",
   "execution_count": null,
   "id": "caaf1afa",
   "metadata": {},
   "outputs": [],
   "source": [
    "sum(temp['delhi']) / len(temp['delhi'])"
   ]
  }
 ],
 "metadata": {
  "kernelspec": {
   "display_name": "base",
   "language": "python",
   "name": "python3"
  },
  "language_info": {
   "codemirror_mode": {
    "name": "ipython",
    "version": 3
   },
   "file_extension": ".py",
   "mimetype": "text/x-python",
   "name": "python",
   "nbconvert_exporter": "python",
   "pygments_lexer": "ipython3",
   "version": "3.12.9"
  }
 },
 "nbformat": 4,
 "nbformat_minor": 5
}
